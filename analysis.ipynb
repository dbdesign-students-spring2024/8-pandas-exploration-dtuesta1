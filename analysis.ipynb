{
 "cells": [
  {
   "cell_type": "markdown",
   "metadata": {},
   "source": [
    "# pandas exploration\n",
    "In this assignment you will select a data set and do some munging and analysis of it using `pandas`, Jupyter Notebooks, and associated Python-centric data science tools."
   ]
  },
  {
   "attachments": {},
   "cell_type": "markdown",
   "metadata": {},
   "source": [
    "## Set up environment"
   ]
  },
  {
   "attachments": {},
   "cell_type": "markdown",
   "metadata": {},
   "source": [
    "The following lines ensure that `numpy` and `pandas` are installed in the notebook environment.  Depending on your system, this may not be necessary and may be removed."
   ]
  },
  {
   "cell_type": "code",
   "execution_count": 17,
   "metadata": {},
   "outputs": [
    {
     "name": "stdout",
     "output_type": "stream",
     "text": [
      "Defaulting to user installation because normal site-packages is not writeable\n",
      "Requirement already satisfied: numpy in /Users/tuesti/Library/Python/3.11/lib/python/site-packages (1.26.4)\n",
      "Defaulting to user installation because normal site-packages is not writeable\n",
      "Requirement already satisfied: pandas in /Users/tuesti/Library/Python/3.11/lib/python/site-packages (2.2.2)\n",
      "Requirement already satisfied: numpy>=1.23.2 in /Users/tuesti/Library/Python/3.11/lib/python/site-packages (from pandas) (1.26.4)\n",
      "Requirement already satisfied: python-dateutil>=2.8.2 in /Users/tuesti/Library/Python/3.11/lib/python/site-packages (from pandas) (2.9.0.post0)\n",
      "Requirement already satisfied: pytz>=2020.1 in /Users/tuesti/Library/Python/3.11/lib/python/site-packages (from pandas) (2024.1)\n",
      "Requirement already satisfied: tzdata>=2022.7 in /Users/tuesti/Library/Python/3.11/lib/python/site-packages (from pandas) (2024.1)\n",
      "Requirement already satisfied: six>=1.5 in /Users/tuesti/Library/Python/3.11/lib/python/site-packages (from python-dateutil>=2.8.2->pandas) (1.16.0)\n",
      "Defaulting to user installation because normal site-packages is not writeable\n",
      "Requirement already satisfied: matplotlib in /Users/tuesti/Library/Python/3.11/lib/python/site-packages (3.8.4)\n",
      "Requirement already satisfied: contourpy>=1.0.1 in /Users/tuesti/Library/Python/3.11/lib/python/site-packages (from matplotlib) (1.2.1)\n",
      "Requirement already satisfied: cycler>=0.10 in /Users/tuesti/Library/Python/3.11/lib/python/site-packages (from matplotlib) (0.12.1)\n",
      "Requirement already satisfied: fonttools>=4.22.0 in /Users/tuesti/Library/Python/3.11/lib/python/site-packages (from matplotlib) (4.51.0)\n",
      "Requirement already satisfied: kiwisolver>=1.3.1 in /Users/tuesti/Library/Python/3.11/lib/python/site-packages (from matplotlib) (1.4.5)\n",
      "Requirement already satisfied: numpy>=1.21 in /Users/tuesti/Library/Python/3.11/lib/python/site-packages (from matplotlib) (1.26.4)\n",
      "Requirement already satisfied: packaging>=20.0 in /Library/Frameworks/Python.framework/Versions/3.11/lib/python3.11/site-packages (from matplotlib) (23.2)\n",
      "Requirement already satisfied: pillow>=8 in /Users/tuesti/Library/Python/3.11/lib/python/site-packages (from matplotlib) (10.3.0)\n",
      "Requirement already satisfied: pyparsing>=2.3.1 in /Users/tuesti/Library/Python/3.11/lib/python/site-packages (from matplotlib) (3.1.2)\n",
      "Requirement already satisfied: python-dateutil>=2.7 in /Users/tuesti/Library/Python/3.11/lib/python/site-packages (from matplotlib) (2.9.0.post0)\n",
      "Requirement already satisfied: six>=1.5 in /Users/tuesti/Library/Python/3.11/lib/python/site-packages (from python-dateutil>=2.7->matplotlib) (1.16.0)\n"
     ]
    }
   ],
   "source": [
    "!pip install numpy\n",
    "!pip install pandas\n",
    "!pip install matplotlib"
   ]
  },
  {
   "cell_type": "markdown",
   "metadata": {},
   "source": [
    "Import the core data science libraries:"
   ]
  },
  {
   "cell_type": "code",
   "execution_count": 19,
   "metadata": {},
   "outputs": [],
   "source": [
    "%matplotlib inline\n",
    "import matplotlib.pyplot as plt\n",
    "import numpy as np\n",
    "import pandas as pd"
   ]
  },
  {
   "cell_type": "markdown",
   "metadata": {},
   "source": [
    "## Import the raw data\n",
    "In this section, you will import the raw data into a `pandas` DataFrame."
   ]
  },
  {
   "cell_type": "code",
   "execution_count": 68,
   "metadata": {},
   "outputs": [],
   "source": [
    "# importing each json file into a dataframe\n",
    "df1 = pd.read_json('data/StreamingHistory_music_0.json')\n",
    "df2 = pd.read_json('data/StreamingHistory_music_1.json')\n",
    "\n",
    "# merging two dataframes, ignore_index re-indexes the combined dataFrame\n",
    "df = pd.concat( [df1, df2], ignore_index=True)"
   ]
  },
  {
   "cell_type": "markdown",
   "metadata": {},
   "source": [
    "## Data inspection"
   ]
  },
  {
   "cell_type": "markdown",
   "metadata": {},
   "source": [
    " Show 5 rows, selected at random, from the data set."
   ]
  },
  {
   "cell_type": "code",
   "execution_count": 24,
   "metadata": {},
   "outputs": [
    {
     "data": {
      "text/html": [
       "<div>\n",
       "<style scoped>\n",
       "    .dataframe tbody tr th:only-of-type {\n",
       "        vertical-align: middle;\n",
       "    }\n",
       "\n",
       "    .dataframe tbody tr th {\n",
       "        vertical-align: top;\n",
       "    }\n",
       "\n",
       "    .dataframe thead th {\n",
       "        text-align: right;\n",
       "    }\n",
       "</style>\n",
       "<table border=\"1\" class=\"dataframe\">\n",
       "  <thead>\n",
       "    <tr style=\"text-align: right;\">\n",
       "      <th></th>\n",
       "      <th>endTime</th>\n",
       "      <th>artistName</th>\n",
       "      <th>trackName</th>\n",
       "      <th>msPlayed</th>\n",
       "    </tr>\n",
       "  </thead>\n",
       "  <tbody>\n",
       "    <tr>\n",
       "      <th>11326</th>\n",
       "      <td>2023-11-01 23:47</td>\n",
       "      <td>Fousheé</td>\n",
       "      <td>unexplainable</td>\n",
       "      <td>99840</td>\n",
       "    </tr>\n",
       "    <tr>\n",
       "      <th>4231</th>\n",
       "      <td>2023-04-20 19:55</td>\n",
       "      <td>Larry June</td>\n",
       "      <td>89 Earthquake</td>\n",
       "      <td>8570</td>\n",
       "    </tr>\n",
       "    <tr>\n",
       "      <th>9651</th>\n",
       "      <td>2023-09-25 05:52</td>\n",
       "      <td>Thundercat</td>\n",
       "      <td>3AM</td>\n",
       "      <td>1237</td>\n",
       "    </tr>\n",
       "    <tr>\n",
       "      <th>14997</th>\n",
       "      <td>2024-02-11 02:47</td>\n",
       "      <td>Rawayana</td>\n",
       "      <td>Caney</td>\n",
       "      <td>230187</td>\n",
       "    </tr>\n",
       "    <tr>\n",
       "      <th>13394</th>\n",
       "      <td>2023-12-20 17:35</td>\n",
       "      <td>The 1975</td>\n",
       "      <td>Heart Out</td>\n",
       "      <td>202293</td>\n",
       "    </tr>\n",
       "  </tbody>\n",
       "</table>\n",
       "</div>"
      ],
      "text/plain": [
       "                endTime  artistName      trackName  msPlayed\n",
       "11326  2023-11-01 23:47     Fousheé  unexplainable     99840\n",
       "4231   2023-04-20 19:55  Larry June  89 Earthquake      8570\n",
       "9651   2023-09-25 05:52  Thundercat            3AM      1237\n",
       "14997  2024-02-11 02:47    Rawayana          Caney    230187\n",
       "13394  2023-12-20 17:35    The 1975      Heart Out    202293"
      ]
     },
     "execution_count": 24,
     "metadata": {},
     "output_type": "execute_result"
    }
   ],
   "source": [
    "df.sample(5)"
   ]
  },
  {
   "cell_type": "markdown",
   "metadata": {},
   "source": [
    "Show each of the column names and their data types."
   ]
  },
  {
   "cell_type": "code",
   "execution_count": 26,
   "metadata": {},
   "outputs": [
    {
     "name": "stdout",
     "output_type": "stream",
     "text": [
      "<class 'pandas.core.frame.DataFrame'>\n",
      "RangeIndex: 15180 entries, 0 to 15179\n",
      "Data columns (total 4 columns):\n",
      " #   Column      Non-Null Count  Dtype \n",
      "---  ------      --------------  ----- \n",
      " 0   endTime     15180 non-null  object\n",
      " 1   artistName  15180 non-null  object\n",
      " 2   trackName   15180 non-null  object\n",
      " 3   msPlayed    15180 non-null  int64 \n",
      "dtypes: int64(1), object(3)\n",
      "memory usage: 474.5+ KB\n"
     ]
    }
   ],
   "source": [
    "df.info()"
   ]
  },
  {
   "cell_type": "markdown",
   "metadata": {},
   "source": [
    "Show any unique features of your chosen data set."
   ]
  },
  {
   "cell_type": "code",
   "execution_count": 33,
   "metadata": {},
   "outputs": [
    {
     "data": {
      "text/html": [
       "<div>\n",
       "<style scoped>\n",
       "    .dataframe tbody tr th:only-of-type {\n",
       "        vertical-align: middle;\n",
       "    }\n",
       "\n",
       "    .dataframe tbody tr th {\n",
       "        vertical-align: top;\n",
       "    }\n",
       "\n",
       "    .dataframe thead th {\n",
       "        text-align: right;\n",
       "    }\n",
       "</style>\n",
       "<table border=\"1\" class=\"dataframe\">\n",
       "  <thead>\n",
       "    <tr style=\"text-align: right;\">\n",
       "      <th></th>\n",
       "      <th>msPlayed</th>\n",
       "    </tr>\n",
       "  </thead>\n",
       "  <tbody>\n",
       "    <tr>\n",
       "      <th>count</th>\n",
       "      <td>15180.000000</td>\n",
       "    </tr>\n",
       "    <tr>\n",
       "      <th>mean</th>\n",
       "      <td>118592.802108</td>\n",
       "    </tr>\n",
       "    <tr>\n",
       "      <th>std</th>\n",
       "      <td>103561.358600</td>\n",
       "    </tr>\n",
       "    <tr>\n",
       "      <th>min</th>\n",
       "      <td>0.000000</td>\n",
       "    </tr>\n",
       "    <tr>\n",
       "      <th>25%</th>\n",
       "      <td>8467.500000</td>\n",
       "    </tr>\n",
       "    <tr>\n",
       "      <th>50%</th>\n",
       "      <td>113566.000000</td>\n",
       "    </tr>\n",
       "    <tr>\n",
       "      <th>75%</th>\n",
       "      <td>202199.000000</td>\n",
       "    </tr>\n",
       "    <tr>\n",
       "      <th>max</th>\n",
       "      <td>752044.000000</td>\n",
       "    </tr>\n",
       "  </tbody>\n",
       "</table>\n",
       "</div>"
      ],
      "text/plain": [
       "            msPlayed\n",
       "count   15180.000000\n",
       "mean   118592.802108\n",
       "std    103561.358600\n",
       "min         0.000000\n",
       "25%      8467.500000\n",
       "50%    113566.000000\n",
       "75%    202199.000000\n",
       "max    752044.000000"
      ]
     },
     "execution_count": 33,
     "metadata": {},
     "output_type": "execute_result"
    }
   ],
   "source": [
    "df.describe()"
   ]
  },
  {
   "cell_type": "markdown",
   "metadata": {},
   "source": [
    "## Data munging"
   ]
  },
  {
   "cell_type": "markdown",
   "metadata": {},
   "source": [
    "Using `to_datetime` function to convert `endTime` column from `object` Dtype to a `datetime` Dtype"
   ]
  },
  {
   "cell_type": "code",
   "execution_count": 80,
   "metadata": {},
   "outputs": [
    {
     "data": {
      "text/html": [
       "<div>\n",
       "<style scoped>\n",
       "    .dataframe tbody tr th:only-of-type {\n",
       "        vertical-align: middle;\n",
       "    }\n",
       "\n",
       "    .dataframe tbody tr th {\n",
       "        vertical-align: top;\n",
       "    }\n",
       "\n",
       "    .dataframe thead th {\n",
       "        text-align: right;\n",
       "    }\n",
       "</style>\n",
       "<table border=\"1\" class=\"dataframe\">\n",
       "  <thead>\n",
       "    <tr style=\"text-align: right;\">\n",
       "      <th></th>\n",
       "      <th>endTime</th>\n",
       "      <th>artistName</th>\n",
       "      <th>trackName</th>\n",
       "      <th>msPlayed</th>\n",
       "      <th>sPlayed</th>\n",
       "      <th>minsPlayed</th>\n",
       "      <th>streamDuration</th>\n",
       "      <th>year</th>\n",
       "      <th>month</th>\n",
       "      <th>day</th>\n",
       "      <th>hour</th>\n",
       "      <th>dayOfWeek</th>\n",
       "    </tr>\n",
       "  </thead>\n",
       "  <tbody>\n",
       "    <tr>\n",
       "      <th>668</th>\n",
       "      <td>2023-02-22 01:37:00</td>\n",
       "      <td>Plan B</td>\n",
       "      <td>Candy</td>\n",
       "      <td>207626</td>\n",
       "      <td>207.63</td>\n",
       "      <td>3.46</td>\n",
       "      <td>medium</td>\n",
       "      <td>2023</td>\n",
       "      <td>2</td>\n",
       "      <td>22</td>\n",
       "      <td>1</td>\n",
       "      <td>Wednesday</td>\n",
       "    </tr>\n",
       "    <tr>\n",
       "      <th>2832</th>\n",
       "      <td>2023-03-22 07:41:00</td>\n",
       "      <td>Juan Luis Guerra 4.40</td>\n",
       "      <td>Bachata Rosa</td>\n",
       "      <td>257080</td>\n",
       "      <td>257.08</td>\n",
       "      <td>4.28</td>\n",
       "      <td>medium</td>\n",
       "      <td>2023</td>\n",
       "      <td>3</td>\n",
       "      <td>22</td>\n",
       "      <td>7</td>\n",
       "      <td>Wednesday</td>\n",
       "    </tr>\n",
       "    <tr>\n",
       "      <th>3077</th>\n",
       "      <td>2023-03-27 19:26:00</td>\n",
       "      <td>Drake</td>\n",
       "      <td>Summers Over Interlude</td>\n",
       "      <td>106333</td>\n",
       "      <td>106.33</td>\n",
       "      <td>1.77</td>\n",
       "      <td>short</td>\n",
       "      <td>2023</td>\n",
       "      <td>3</td>\n",
       "      <td>27</td>\n",
       "      <td>19</td>\n",
       "      <td>Monday</td>\n",
       "    </tr>\n",
       "    <tr>\n",
       "      <th>8266</th>\n",
       "      <td>2023-08-03 01:29:00</td>\n",
       "      <td>Bad Bunny</td>\n",
       "      <td>Me Porto Bonito</td>\n",
       "      <td>1578</td>\n",
       "      <td>1.58</td>\n",
       "      <td>0.03</td>\n",
       "      <td>skip</td>\n",
       "      <td>2023</td>\n",
       "      <td>8</td>\n",
       "      <td>3</td>\n",
       "      <td>1</td>\n",
       "      <td>Thursday</td>\n",
       "    </tr>\n",
       "    <tr>\n",
       "      <th>13502</th>\n",
       "      <td>2023-12-21 17:48:00</td>\n",
       "      <td>Calle 13</td>\n",
       "      <td>Electro Movimiento</td>\n",
       "      <td>1393</td>\n",
       "      <td>1.39</td>\n",
       "      <td>0.02</td>\n",
       "      <td>skip</td>\n",
       "      <td>2023</td>\n",
       "      <td>12</td>\n",
       "      <td>21</td>\n",
       "      <td>17</td>\n",
       "      <td>Thursday</td>\n",
       "    </tr>\n",
       "  </tbody>\n",
       "</table>\n",
       "</div>"
      ],
      "text/plain": [
       "                  endTime             artistName               trackName  \\\n",
       "668   2023-02-22 01:37:00                 Plan B                   Candy   \n",
       "2832  2023-03-22 07:41:00  Juan Luis Guerra 4.40            Bachata Rosa   \n",
       "3077  2023-03-27 19:26:00                  Drake  Summers Over Interlude   \n",
       "8266  2023-08-03 01:29:00              Bad Bunny         Me Porto Bonito   \n",
       "13502 2023-12-21 17:48:00               Calle 13      Electro Movimiento   \n",
       "\n",
       "       msPlayed  sPlayed  minsPlayed streamDuration  year  month  day  hour  \\\n",
       "668      207626   207.63        3.46         medium  2023      2   22     1   \n",
       "2832     257080   257.08        4.28         medium  2023      3   22     7   \n",
       "3077     106333   106.33        1.77          short  2023      3   27    19   \n",
       "8266       1578     1.58        0.03           skip  2023      8    3     1   \n",
       "13502      1393     1.39        0.02           skip  2023     12   21    17   \n",
       "\n",
       "       dayOfWeek  \n",
       "668    Wednesday  \n",
       "2832   Wednesday  \n",
       "3077      Monday  \n",
       "8266    Thursday  \n",
       "13502   Thursday  "
      ]
     },
     "execution_count": 80,
     "metadata": {},
     "output_type": "execute_result"
    }
   ],
   "source": [
    "df['endTime'] = pd.to_datetime(df['endTime'])\n",
    "df.sample(5)"
   ]
  },
  {
   "cell_type": "markdown",
   "metadata": {},
   "source": [
    "No missing data found."
   ]
  },
  {
   "cell_type": "code",
   "execution_count": 196,
   "metadata": {},
   "outputs": [
    {
     "data": {
      "text/html": [
       "<div>\n",
       "<style scoped>\n",
       "    .dataframe tbody tr th:only-of-type {\n",
       "        vertical-align: middle;\n",
       "    }\n",
       "\n",
       "    .dataframe tbody tr th {\n",
       "        vertical-align: top;\n",
       "    }\n",
       "\n",
       "    .dataframe thead th {\n",
       "        text-align: right;\n",
       "    }\n",
       "</style>\n",
       "<table border=\"1\" class=\"dataframe\">\n",
       "  <thead>\n",
       "    <tr style=\"text-align: right;\">\n",
       "      <th></th>\n",
       "      <th>endTime</th>\n",
       "      <th>artistName</th>\n",
       "      <th>trackName</th>\n",
       "      <th>msPlayed</th>\n",
       "      <th>sPlayed</th>\n",
       "      <th>minsPlayed</th>\n",
       "      <th>streamDuration</th>\n",
       "      <th>year</th>\n",
       "      <th>month</th>\n",
       "      <th>day</th>\n",
       "      <th>hour</th>\n",
       "      <th>dayOfWeek</th>\n",
       "    </tr>\n",
       "  </thead>\n",
       "  <tbody>\n",
       "  </tbody>\n",
       "</table>\n",
       "</div>"
      ],
      "text/plain": [
       "Empty DataFrame\n",
       "Columns: [endTime, artistName, trackName, msPlayed, sPlayed, minsPlayed, streamDuration, year, month, day, hour, dayOfWeek]\n",
       "Index: []"
      ]
     },
     "execution_count": 196,
     "metadata": {},
     "output_type": "execute_result"
    }
   ],
   "source": [
    "bad_rows = df[ df.isnull().any(axis=1) ]\n",
    "bad_rows.head(3)"
   ]
  },
  {
   "cell_type": "markdown",
   "metadata": {},
   "source": [
    "Currently, this dataset tells us how long I streamed tracks in milliseconds with the `msPlayed` field. For our analysis, I will be creating new rows that convert this metric into seconds and minutes.\n",
    "\n",
    "Additionally, I decided to create a `streamDuration` field that gives us a clearer picture of how long each track was streamed. This field categorizes streaming duration into these categories - skip', 'short', 'medium', and 'long'. The category boundaries are established on my own listening habits."
   ]
  },
  {
   "cell_type": "code",
   "execution_count": 81,
   "metadata": {},
   "outputs": [
    {
     "data": {
      "text/html": [
       "<div>\n",
       "<style scoped>\n",
       "    .dataframe tbody tr th:only-of-type {\n",
       "        vertical-align: middle;\n",
       "    }\n",
       "\n",
       "    .dataframe tbody tr th {\n",
       "        vertical-align: top;\n",
       "    }\n",
       "\n",
       "    .dataframe thead th {\n",
       "        text-align: right;\n",
       "    }\n",
       "</style>\n",
       "<table border=\"1\" class=\"dataframe\">\n",
       "  <thead>\n",
       "    <tr style=\"text-align: right;\">\n",
       "      <th></th>\n",
       "      <th>endTime</th>\n",
       "      <th>artistName</th>\n",
       "      <th>trackName</th>\n",
       "      <th>msPlayed</th>\n",
       "      <th>sPlayed</th>\n",
       "      <th>minsPlayed</th>\n",
       "      <th>streamDuration</th>\n",
       "      <th>year</th>\n",
       "      <th>month</th>\n",
       "      <th>day</th>\n",
       "      <th>hour</th>\n",
       "      <th>dayOfWeek</th>\n",
       "    </tr>\n",
       "  </thead>\n",
       "  <tbody>\n",
       "    <tr>\n",
       "      <th>7671</th>\n",
       "      <td>2023-07-05 15:36:00</td>\n",
       "      <td>ROSALÍA</td>\n",
       "      <td>TUYA</td>\n",
       "      <td>154524</td>\n",
       "      <td>154.52</td>\n",
       "      <td>2.58</td>\n",
       "      <td>medium</td>\n",
       "      <td>2023</td>\n",
       "      <td>7</td>\n",
       "      <td>5</td>\n",
       "      <td>15</td>\n",
       "      <td>Wednesday</td>\n",
       "    </tr>\n",
       "    <tr>\n",
       "      <th>3973</th>\n",
       "      <td>2023-04-13 02:51:00</td>\n",
       "      <td>YNW Melly</td>\n",
       "      <td>Suicidal</td>\n",
       "      <td>37380</td>\n",
       "      <td>37.38</td>\n",
       "      <td>0.62</td>\n",
       "      <td>skip</td>\n",
       "      <td>2023</td>\n",
       "      <td>4</td>\n",
       "      <td>13</td>\n",
       "      <td>2</td>\n",
       "      <td>Thursday</td>\n",
       "    </tr>\n",
       "    <tr>\n",
       "      <th>13068</th>\n",
       "      <td>2023-12-14 16:59:00</td>\n",
       "      <td>Frank Ocean</td>\n",
       "      <td>Crack Rock</td>\n",
       "      <td>2154</td>\n",
       "      <td>2.15</td>\n",
       "      <td>0.04</td>\n",
       "      <td>skip</td>\n",
       "      <td>2023</td>\n",
       "      <td>12</td>\n",
       "      <td>14</td>\n",
       "      <td>16</td>\n",
       "      <td>Thursday</td>\n",
       "    </tr>\n",
       "    <tr>\n",
       "      <th>1263</th>\n",
       "      <td>2023-02-28 17:39:00</td>\n",
       "      <td>Aviad</td>\n",
       "      <td>the best in me</td>\n",
       "      <td>84486</td>\n",
       "      <td>84.49</td>\n",
       "      <td>1.41</td>\n",
       "      <td>short</td>\n",
       "      <td>2023</td>\n",
       "      <td>2</td>\n",
       "      <td>28</td>\n",
       "      <td>17</td>\n",
       "      <td>Tuesday</td>\n",
       "    </tr>\n",
       "    <tr>\n",
       "      <th>8396</th>\n",
       "      <td>2023-08-10 23:39:00</td>\n",
       "      <td>Toro y Moi</td>\n",
       "      <td>Magazine</td>\n",
       "      <td>191525</td>\n",
       "      <td>191.52</td>\n",
       "      <td>3.19</td>\n",
       "      <td>medium</td>\n",
       "      <td>2023</td>\n",
       "      <td>8</td>\n",
       "      <td>10</td>\n",
       "      <td>23</td>\n",
       "      <td>Thursday</td>\n",
       "    </tr>\n",
       "  </tbody>\n",
       "</table>\n",
       "</div>"
      ],
      "text/plain": [
       "                  endTime   artistName       trackName  msPlayed  sPlayed  \\\n",
       "7671  2023-07-05 15:36:00      ROSALÍA            TUYA    154524   154.52   \n",
       "3973  2023-04-13 02:51:00    YNW Melly        Suicidal     37380    37.38   \n",
       "13068 2023-12-14 16:59:00  Frank Ocean      Crack Rock      2154     2.15   \n",
       "1263  2023-02-28 17:39:00        Aviad  the best in me     84486    84.49   \n",
       "8396  2023-08-10 23:39:00   Toro y Moi        Magazine    191525   191.52   \n",
       "\n",
       "       minsPlayed streamDuration  year  month  day  hour  dayOfWeek  \n",
       "7671         2.58         medium  2023      7    5    15  Wednesday  \n",
       "3973         0.62           skip  2023      4   13     2   Thursday  \n",
       "13068        0.04           skip  2023     12   14    16   Thursday  \n",
       "1263         1.41          short  2023      2   28    17    Tuesday  \n",
       "8396         3.19         medium  2023      8   10    23   Thursday  "
      ]
     },
     "execution_count": 81,
     "metadata": {},
     "output_type": "execute_result"
    }
   ],
   "source": [
    "df['sPlayed'] = (df['msPlayed'] / 1000).round(2)\n",
    "df['minsPlayed'] = (df['msPlayed'] / 60000).round(2)\n",
    "\n",
    "bins = [0,40,120,300]\n",
    "duration = ['skip', 'short', 'medium', 'long']\n",
    "df['streamDuration'] = pd.cut(df['sPlayed'], [0,40,120,300,df['sPlayed'].max()], labels = duration, include_lowest=True)\n",
    "\n",
    "df.sample(5)"
   ]
  },
  {
   "cell_type": "markdown",
   "metadata": {},
   "source": [
    "Extracting date and time components and creating new columns for them"
   ]
  },
  {
   "cell_type": "code",
   "execution_count": 300,
   "metadata": {},
   "outputs": [
    {
     "data": {
      "text/html": [
       "<div>\n",
       "<style scoped>\n",
       "    .dataframe tbody tr th:only-of-type {\n",
       "        vertical-align: middle;\n",
       "    }\n",
       "\n",
       "    .dataframe tbody tr th {\n",
       "        vertical-align: top;\n",
       "    }\n",
       "\n",
       "    .dataframe thead th {\n",
       "        text-align: right;\n",
       "    }\n",
       "</style>\n",
       "<table border=\"1\" class=\"dataframe\">\n",
       "  <thead>\n",
       "    <tr style=\"text-align: right;\">\n",
       "      <th></th>\n",
       "      <th>endTime</th>\n",
       "      <th>artistName</th>\n",
       "      <th>trackName</th>\n",
       "      <th>msPlayed</th>\n",
       "      <th>sPlayed</th>\n",
       "      <th>minsPlayed</th>\n",
       "      <th>streamDuration</th>\n",
       "      <th>year</th>\n",
       "      <th>month</th>\n",
       "      <th>day</th>\n",
       "      <th>hour</th>\n",
       "      <th>dayOfWeek</th>\n",
       "      <th>hourEST</th>\n",
       "    </tr>\n",
       "  </thead>\n",
       "  <tbody>\n",
       "    <tr>\n",
       "      <th>7445</th>\n",
       "      <td>2023-06-24 17:13:00</td>\n",
       "      <td>Shay Lia</td>\n",
       "      <td>SOLO</td>\n",
       "      <td>182400</td>\n",
       "      <td>182.40</td>\n",
       "      <td>3.04</td>\n",
       "      <td>medium</td>\n",
       "      <td>2023</td>\n",
       "      <td>June</td>\n",
       "      <td>24</td>\n",
       "      <td>17</td>\n",
       "      <td>Saturday</td>\n",
       "      <td>13</td>\n",
       "    </tr>\n",
       "    <tr>\n",
       "      <th>4260</th>\n",
       "      <td>2023-04-20 23:00:00</td>\n",
       "      <td>Frank Ocean</td>\n",
       "      <td>Cayendo (Side A - Acoustic)</td>\n",
       "      <td>202199</td>\n",
       "      <td>202.20</td>\n",
       "      <td>3.37</td>\n",
       "      <td>medium</td>\n",
       "      <td>2023</td>\n",
       "      <td>April</td>\n",
       "      <td>20</td>\n",
       "      <td>23</td>\n",
       "      <td>Thursday</td>\n",
       "      <td>19</td>\n",
       "    </tr>\n",
       "    <tr>\n",
       "      <th>12852</th>\n",
       "      <td>2023-12-10 08:43:00</td>\n",
       "      <td>Larry June</td>\n",
       "      <td>Smoothies In 1991</td>\n",
       "      <td>14973</td>\n",
       "      <td>14.97</td>\n",
       "      <td>0.25</td>\n",
       "      <td>skip</td>\n",
       "      <td>2023</td>\n",
       "      <td>December</td>\n",
       "      <td>10</td>\n",
       "      <td>8</td>\n",
       "      <td>Sunday</td>\n",
       "      <td>3</td>\n",
       "    </tr>\n",
       "    <tr>\n",
       "      <th>4736</th>\n",
       "      <td>2023-04-29 15:04:00</td>\n",
       "      <td>Blood Orange</td>\n",
       "      <td>Out Of Your League</td>\n",
       "      <td>140923</td>\n",
       "      <td>140.92</td>\n",
       "      <td>2.35</td>\n",
       "      <td>medium</td>\n",
       "      <td>2023</td>\n",
       "      <td>April</td>\n",
       "      <td>29</td>\n",
       "      <td>15</td>\n",
       "      <td>Saturday</td>\n",
       "      <td>11</td>\n",
       "    </tr>\n",
       "    <tr>\n",
       "      <th>7022</th>\n",
       "      <td>2023-06-11 01:36:00</td>\n",
       "      <td>Joe Arroyo</td>\n",
       "      <td>Rebelión</td>\n",
       "      <td>287893</td>\n",
       "      <td>287.89</td>\n",
       "      <td>4.80</td>\n",
       "      <td>medium</td>\n",
       "      <td>2023</td>\n",
       "      <td>June</td>\n",
       "      <td>11</td>\n",
       "      <td>1</td>\n",
       "      <td>Sunday</td>\n",
       "      <td>21</td>\n",
       "    </tr>\n",
       "  </tbody>\n",
       "</table>\n",
       "</div>"
      ],
      "text/plain": [
       "                  endTime    artistName                    trackName  \\\n",
       "7445  2023-06-24 17:13:00      Shay Lia                         SOLO   \n",
       "4260  2023-04-20 23:00:00   Frank Ocean  Cayendo (Side A - Acoustic)   \n",
       "12852 2023-12-10 08:43:00    Larry June            Smoothies In 1991   \n",
       "4736  2023-04-29 15:04:00  Blood Orange           Out Of Your League   \n",
       "7022  2023-06-11 01:36:00    Joe Arroyo                     Rebelión   \n",
       "\n",
       "       msPlayed  sPlayed  minsPlayed streamDuration  year     month  day  \\\n",
       "7445     182400   182.40        3.04         medium  2023      June   24   \n",
       "4260     202199   202.20        3.37         medium  2023     April   20   \n",
       "12852     14973    14.97        0.25           skip  2023  December   10   \n",
       "4736     140923   140.92        2.35         medium  2023     April   29   \n",
       "7022     287893   287.89        4.80         medium  2023      June   11   \n",
       "\n",
       "       hour dayOfWeek  hourEST  \n",
       "7445     17  Saturday       13  \n",
       "4260     23  Thursday       19  \n",
       "12852     8    Sunday        3  \n",
       "4736     15  Saturday       11  \n",
       "7022      1    Sunday       21  "
      ]
     },
     "execution_count": 300,
     "metadata": {},
     "output_type": "execute_result"
    }
   ],
   "source": [
    "df['year'] = df['endTime'].dt.year\n",
    "df['month'] = df['endTime'].dt.month_name()\n",
    "df['day'] = df['endTime'].dt.day\n",
    "df['hourEST'] = df['endTime'].dt.tz_localize('UTC').dt.tz_convert('US/Eastern').dt.hour\n",
    "\n",
    "df['dayOfWeek'] = df['endTime'].dt.day_name()  \n",
    "df.sample(5)"
   ]
  },
  {
   "cell_type": "markdown",
   "metadata": {},
   "source": [
    "## Data analysis"
   ]
  },
  {
   "cell_type": "markdown",
   "metadata": {},
   "source": [
    "### Calculate Total Streams, Skips, and Skip Stream Rate"
   ]
  },
  {
   "cell_type": "code",
   "execution_count": 185,
   "metadata": {},
   "outputs": [
    {
     "name": "stdout",
     "output_type": "stream",
     "text": [
      "Total Number of Streams: 15180\n",
      "Total Number of Skips: 5377\n",
      "Skip Stream Rate: 0.35\n",
      "\n",
      "35.0% of the songs I streamed in the past year were skipped\n"
     ]
    }
   ],
   "source": [
    "TotalStreams = df['artistName'].count()\n",
    "TotalSkips = df[df['streamDuration'] == 'skip']['artistName'].count()\n",
    "Rate = TotalSkips/TotalStreams\n",
    "\n",
    "print(f'Total Number of Streams: {TotalStreams}')\n",
    "print(f'Total Number of Skips: {TotalSkips}')\n",
    "print(f'Skip Stream Rate: {Rate.round(2)}')\n",
    "print(f'\\n{(Rate*100).round()}% of the songs I streamed in the past year were skipped')"
   ]
  },
  {
   "cell_type": "markdown",
   "metadata": {},
   "source": [
    "### Find the Day of the Week with Most Streamed Minutes"
   ]
  },
  {
   "cell_type": "code",
   "execution_count": 186,
   "metadata": {},
   "outputs": [
    {
     "name": "stdout",
     "output_type": "stream",
     "text": [
      "The day with the most streamed minutes is Wednesday with 5163.97 minutes, or 86.07 hours.\n"
     ]
    }
   ],
   "source": [
    "minsByDay= df.groupby(\"dayOfWeek\")[\"minsPlayed\"].sum()\n",
    "maxDay = minsByDay.idxmax()\n",
    "maxMinsDay = minsByDay.max()\n",
    "\n",
    "print(f\"The day with the most streamed minutes is {maxDay} with {maxMinsDay} minutes, or {(maxMinsDay/60).round(2)} hours.\")"
   ]
  },
  {
   "cell_type": "markdown",
   "metadata": {},
   "source": [
    "### My Top 10 Most Streamed Artists by Minutes"
   ]
  },
  {
   "cell_type": "code",
   "execution_count": 187,
   "metadata": {},
   "outputs": [
    {
     "data": {
      "text/plain": [
       "artistName\n",
       "Daniel Caesar         1113.40\n",
       "Blood Orange          1038.44\n",
       "ROSALÍA                880.88\n",
       "Kali Uchis             825.55\n",
       "Frank Ocean            732.28\n",
       "Daft Punk              630.04\n",
       "Bad Bunny              540.13\n",
       "Shakira                539.90\n",
       "Tyler, The Creator     494.80\n",
       "The 1975               448.46\n",
       "Name: minsPlayed, dtype: float64"
      ]
     },
     "execution_count": 187,
     "metadata": {},
     "output_type": "execute_result"
    }
   ],
   "source": [
    "df.groupby(\"artistName\")['minsPlayed'].sum().sort_values(ascending = False).head(10)"
   ]
  },
  {
   "cell_type": "markdown",
   "metadata": {},
   "source": [
    "### My Top Streaming Month by Minutes, and My Top Artist and Song of the Month "
   ]
  },
  {
   "cell_type": "code",
   "execution_count": 193,
   "metadata": {},
   "outputs": [
    {
     "name": "stdout",
     "output_type": "stream",
     "text": [
      "The month with the most streamed minutes is February with 4432.68 minutes, or 73.88 hours.\n",
      "Top Artist of February: Blood Orange\n",
      "Top Song of February: 'Champagne Coast' by Blood Orange\n"
     ]
    }
   ],
   "source": [
    "minsByMonth = df.groupby(\"month\")['minsPlayed'].sum()\n",
    "maxMonth = minsByMonth.idxmax()\n",
    "maxMins = minsByMonth.max()\n",
    "\n",
    "dfmaxMonth= df[df['month'] == maxMonth]\n",
    "topArtist = dfmaxMonth.groupby('artistName')['minsPlayed'].sum().idxmax()\n",
    "topSong = dfmaxMonth.groupby('trackName')['minsPlayed'].sum().idxmax()\n",
    "topSongArtist = df[df['trackName'] == topSong]['artistName'].iloc[0]\n",
    "\n",
    "print(f\"The month with the most streamed minutes is {maxMonth} with {maxMins} minutes, or {(maxMins/60).round(2)} hours.\")\n",
    "print(f\"Top Artist of {maxMonth}: {topArtist}\")\n",
    "print(f\"Top Song of {maxMonth}: '{topSong}' by {topSongArtist}\")\n",
    "\n"
   ]
  },
  {
   "cell_type": "markdown",
   "metadata": {},
   "source": [
    "### Top Song of Each Month"
   ]
  },
  {
   "cell_type": "code",
   "execution_count": 288,
   "metadata": {},
   "outputs": [
    {
     "name": "stdout",
     "output_type": "stream",
     "text": [
      "Top Song of Each Month:\n",
      "month      trackName                          artistName          \n",
      "January    Fantastic Man                      William Onyeabor         28.62\n",
      "February   Champagne Coast                    Blood Orange            105.94\n",
      "March      Let Me Go                          Daniel Caesar           112.24\n",
      "April      SORRY NOT SORRY                    Tyler, The Creator       59.19\n",
      "May        Right Before My Eyes - Unpeeled    Cage The Elephant        50.39\n",
      "June       Me and My Bitch - 2005 Remaster    The Notorious B.I.G.     35.72\n",
      "July       mañana                             Tainy                    36.50\n",
      "August     Breakout                           N.E.R.D                  42.19\n",
      "September  Linger                             The Cranberries          37.72\n",
      "October    Veridis Quo                        Daft Punk                70.43\n",
      "November   MISS YOU SO                        rallen                   21.71\n",
      "December   Empire Ants (feat. Little Dragon)  Gorillaz                 81.05\n",
      "Name: minsPlayed, dtype: float64\n"
     ]
    }
   ],
   "source": [
    "songsMonthly = df.groupby(['month','trackName','artistName'])['minsPlayed'].sum()\n",
    "maxSongIndex = songsMonthly.groupby('month').idxmax()\n",
    "topSongsMonthly= songsMonthly.loc[maxSongIndex]\n",
    "\n",
    "monthOrder = ['January', 'February', 'March', 'April', 'May', 'June', 'July', 'August', 'September', 'October', 'November', 'December']\n",
    "topSongsMonthly = topSongsMonthly.loc[monthOrder]\n",
    "\n",
    "print(\"Top Song of Each Month:\")\n",
    "print(topSongsMonthly)"
   ]
  },
  {
   "cell_type": "markdown",
   "metadata": {},
   "source": [
    "## Data visualization\n",
    "In this section, you will create a few **visualizations** that show some of the insights you have gathered from this data.\n",
    "- Create at least 5 different visualizations, where each visualization shows different insights into the data.\n",
    "- Use at least 3 different visualization types (e.g. bar charts, line charts, stacked area charts, pie charts, etc)\n",
    "- Create a Markdown cell and a Code cell for each, where you explain and show the visualizations, respectively.\n",
    "- Create as many additional cells as you need to prepare the data for the visualizations."
   ]
  },
  {
   "cell_type": "markdown",
   "metadata": {},
   "source": [
    "### Skip rates throughout the day"
   ]
  },
  {
   "cell_type": "code",
   "execution_count": 335,
   "metadata": {},
   "outputs": [
    {
     "data": {
      "text/plain": [
       "<Axes: xlabel='hourEST', ylabel='Skip Rate'>"
      ]
     },
     "execution_count": 335,
     "metadata": {},
     "output_type": "execute_result"
    },
    {
     "data": {
      "image/png": "[encoded data removed]",
      "text/plain": [
       "<Figure size 640x480 with 1 Axes>"
      ]
     },
     "metadata": {},
     "output_type": "display_data"
    }
   ],
   "source": [
    "\n",
    "TotalStreamsHourly = df.groupby('hourEST')['artistName'].count()\n",
    "TotalSkipsHourly = df[df['streamDuration'] == 'skip'].groupby('hourEST')['artistName'].count()\n",
    "\n",
    "# calculates all the skip rates for each hour in EST\n",
    "Rate = TotalSkipsHourly/TotalStreamsHourly\n",
    "\n",
    "Rate.plot(ylabel = 'Skip Rate', color = 'yellowgreen')"
   ]
  },
  {
   "cell_type": "markdown",
   "metadata": {},
   "source": [
    "### Monthly Distribution of Total Streaming "
   ]
  },
  {
   "cell_type": "code",
   "execution_count": 395,
   "metadata": {},
   "outputs": [
    {
     "data": {
      "text/plain": [
       "<Axes: xlabel='month', ylabel='Total Hours Streamed'>"
      ]
     },
     "execution_count": 395,
     "metadata": {},
     "output_type": "execute_result"
    },
    {
     "data": {
      "image/png": "[encoded data removed]",
      "text/plain": [
       "<Figure size 640x480 with 1 Axes>"
      ]
     },
     "metadata": {},
     "output_type": "display_data"
    }
   ],
   "source": [
    "minsByMonth = df.groupby(\"month\")['minsPlayed'].sum()/60\n",
    "monthOrder = ['January', 'February', 'March', 'April', 'May', 'June', 'July', 'August', 'September', 'October', 'November', 'December']\n",
    "ordered = minsByMonth.loc[monthOrder]\n",
    "ordered.plot.bar(color = 'plum', ylabel= 'Total Hours Streamed')"
   ]
  },
  {
   "cell_type": "markdown",
   "metadata": {},
   "source": [
    "### Top 10 Artists in the Past Year "
   ]
  },
  {
   "cell_type": "code",
   "execution_count": 294,
   "metadata": {},
   "outputs": [
    {
     "data": {
      "text/plain": [
       "<Axes: ylabel='minsPlayed'>"
      ]
     },
     "execution_count": 294,
     "metadata": {},
     "output_type": "execute_result"
    },
    {
     "data": {
      "image/png": "[encoded data removed]",
      "text/plain": [
       "<Figure size 640x480 with 1 Axes>"
      ]
     },
     "metadata": {},
     "output_type": "display_data"
    }
   ],
   "source": [
    "top10 = df.groupby(\"artistName\")['minsPlayed'].sum().sort_values(ascending = False).head(10)\n",
    "top10.plot.pie(y='artistName')"
   ]
  },
  {
   "cell_type": "markdown",
   "metadata": {},
   "source": [
    "### Total Streaming Minutes by Stream Duration and EST Hour"
   ]
  },
  {
   "cell_type": "code",
   "execution_count": 396,
   "metadata": {},
   "outputs": [
    {
     "name": "stderr",
     "output_type": "stream",
     "text": [
      "/var/folders/dt/npwm56kx383b7_d7m4gcvwch0000gn/T/ipykernel_84218/3583198981.py:1: FutureWarning: The default of observed=False is deprecated and will be changed to True in a future version of pandas. Pass observed=False to retain current behavior or observed=True to adopt the future default and silence this warning.\n",
      "  streamingHourlyAndDuration = df.groupby(['hourEST', 'streamDuration'])['minsPlayed'].sum()\n"
     ]
    },
    {
     "data": {
      "text/plain": [
       "<Axes: xlabel='hourEST', ylabel='Total Streaming in minutes'>"
      ]
     },
     "execution_count": 396,
     "metadata": {},
     "output_type": "execute_result"
    },
    {
     "data": {
      "image/png": "[encoded data removed]",
      "text/plain": [
       "<Figure size 640x480 with 1 Axes>"
      ]
     },
     "metadata": {},
     "output_type": "display_data"
    }
   ],
   "source": [
    "streamingHourlyAndDuration = df.groupby(['hourEST', 'streamDuration'])['minsPlayed'].sum()\n",
    "streamingHourlyAndDuration = streamingHourlyAndDuration.unstack()\n",
    "\n",
    "streamingHourlyAndDuration.plot.bar(stacked=True, ylabel = 'Total Streaming in minutes')"
   ]
  },
  {
   "cell_type": "markdown",
   "metadata": {},
   "source": []
  },
  {
   "cell_type": "code",
   "execution_count": 413,
   "metadata": {},
   "outputs": [
    {
     "data": {
      "text/plain": [
       "<Axes: xlabel='Total Streaming Duration in Hours', ylabel='trackName'>"
      ]
     },
     "execution_count": 413,
     "metadata": {},
     "output_type": "execute_result"
    },
    {
     "data": {
      "image/png": "[encoded data removed]",
      "text/plain": [
       "<Figure size 640x480 with 1 Axes>"
      ]
     },
     "metadata": {},
     "output_type": "display_data"
    }
   ],
   "source": [
    "TrackStreamsHours = df.groupby('trackName')['minsPlayed'].sum()/60\n",
    "TopSongs = TrackStreamsHours.sort_values(ascending=True).tail(10)\n",
    "\n",
    "TopSongs.plot.barh(color='skyblue', xlabel = 'Total Streaming Duration in Hours')\n",
    "\n"
   ]
  }
 ],
 "metadata": {
  "kernelspec": {
   "display_name": "Python 3",
   "language": "python",
   "name": "python3"
  },
  "language_info": {
   "codemirror_mode": {
    "name": "ipython",
    "version": 3
   },
   "file_extension": ".py",
   "mimetype": "text/x-python",
   "name": "python",
   "nbconvert_exporter": "python",
   "pygments_lexer": "ipython3",
   "version": "3.11.1"
  }
 },
 "nbformat": 4,
 "nbformat_minor": 4
}
